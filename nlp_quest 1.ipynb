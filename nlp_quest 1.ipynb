{
 "cells": [
  {
   "cell_type": "markdown",
   "id": "a06f64d6",
   "metadata": {},
   "source": [
    "# Introduction to NLP in Python\n",
    "## Q.1: NLP Basics for Text Preprocessing\n",
    "\n",
    "### Tokenization\n",
    "\n",
    "Tokenizers divide strings into lists of substrings. After installing the nltk library, let's import the library along with these two built-in methods, *sent_tokenize* and *word_tokenize*. "
   ]
  },
  {
   "cell_type": "code",
   "execution_count": 1,
   "id": "f673677b",
   "metadata": {},
   "outputs": [],
   "source": [
    "import nltk\n",
    "from nltk import sent_tokenize\n",
    "from nltk import word_tokenize"
   ]
  },
  {
   "cell_type": "markdown",
   "id": "35c6b267",
   "metadata": {},
   "source": [
    "1. `sent_tokenize`\n",
    "\n",
    "The first method, `sent_tokenize`, splits the given text into sentences. This is useful especially if you are dealing with bigger chunks of text with longer sentences.\n",
    "\n",
    "We will make use of the following sample paragraph about NLP in the healthcare industry. Run the cell below to check out the output."
   ]
  },
  {
   "cell_type": "code",
   "execution_count": 2,
   "id": "7d6c0ebb",
   "metadata": {},
   "outputs": [
    {
     "data": {
      "text/plain": [
       "[\"To get hired for a tech product startup, we all know just doing reporting alone won't distinguish a potential data analyst, a good data analyst is one who has an absolute passion for data.\",\n",
       " 'He/she has a strong understanding of the business/product you are running, and will be always seeking meaningful insights to help the team make better decisions']"
      ]
     },
     "execution_count": 2,
     "metadata": {},
     "output_type": "execute_result"
    }
   ],
   "source": [
    "text = \"To get hired for a tech product startup, we all know just doing reporting alone won't distinguish a potential data analyst, a good data analyst is one who has an absolute passion for data. He/she has a strong understanding of the business/product you are running, and will be always seeking meaningful insights to help the team make better decisions\"\n",
    "sent_tokenize(text)"
   ]
  },
  {
   "cell_type": "markdown",
   "id": "4650cb69",
   "metadata": {},
   "source": [
    "If you encounter the \"Resource punkt not found\" error when running the above cell, you can run the following command `nltk.download('punkt')`\n",
    "<br/><br/>\n",
    "\n",
    "2. `word_tokenize`\n",
    "\n",
    "Likewise, the `word_tokenize` method tokenizes each individual word in the paragraph. Run the cell below to compare the outputs."
   ]
  },
  {
   "cell_type": "code",
   "execution_count": 3,
   "id": "2b00bd69",
   "metadata": {},
   "outputs": [
    {
     "data": {
      "text/plain": [
       "['To',\n",
       " 'get',\n",
       " 'hired',\n",
       " 'for',\n",
       " 'a',\n",
       " 'tech',\n",
       " 'product',\n",
       " 'startup',\n",
       " ',',\n",
       " 'we',\n",
       " 'all',\n",
       " 'know',\n",
       " 'just',\n",
       " 'doing',\n",
       " 'reporting',\n",
       " 'alone',\n",
       " 'wo',\n",
       " \"n't\",\n",
       " 'distinguish',\n",
       " 'a',\n",
       " 'potential',\n",
       " 'data',\n",
       " 'analyst',\n",
       " ',',\n",
       " 'a',\n",
       " 'good',\n",
       " 'data',\n",
       " 'analyst',\n",
       " 'is',\n",
       " 'one',\n",
       " 'who',\n",
       " 'has',\n",
       " 'an',\n",
       " 'absolute',\n",
       " 'passion',\n",
       " 'for',\n",
       " 'data',\n",
       " '.',\n",
       " 'He/she',\n",
       " 'has',\n",
       " 'a',\n",
       " 'strong',\n",
       " 'understanding',\n",
       " 'of',\n",
       " 'the',\n",
       " 'business/product',\n",
       " 'you',\n",
       " 'are',\n",
       " 'running',\n",
       " ',',\n",
       " 'and',\n",
       " 'will',\n",
       " 'be',\n",
       " 'always',\n",
       " 'seeking',\n",
       " 'meaningful',\n",
       " 'insights',\n",
       " 'to',\n",
       " 'help',\n",
       " 'the',\n",
       " 'team',\n",
       " 'make',\n",
       " 'better',\n",
       " 'decisions']"
      ]
     },
     "execution_count": 3,
     "metadata": {},
     "output_type": "execute_result"
    }
   ],
   "source": [
    "word_tokenize(text)"
   ]
  },
  {
   "cell_type": "markdown",
   "id": "5908050b",
   "metadata": {},
   "source": [
    "Additionally, feel free to experiment with different sentences and pieces of text and passing them through each tokenizer. \n",
    "\n",
    "There are many more types of tokenizers in the nltk library itself, catered to producing various tokens based on the type of data that is needed. You can learn more about tokenizers from the nltk documentation [here](https://www.nltk.org/api/nltk.tokenize.html).\n",
    "\n",
    "Return back to the StackUp platform, where we will continue on with the quest.\n",
    "\n",
    "<br/><br/>"
   ]
  },
  {
   "cell_type": "markdown",
   "id": "7a894c1a",
   "metadata": {},
   "source": [
    "### Removing stop words\n",
    "\n",
    "Stop words are the common words which don't really add much meaning to the text. Some stop words in English includes conjunctions such as for, and, but, or, yet, so, and articles such as a, an, the.\n",
    "\n",
    "NLTK has pre-defined stop words for English. Let's go ahead and import it by running in the cell below."
   ]
  },
  {
   "cell_type": "code",
   "execution_count": 4,
   "id": "577c7d40",
   "metadata": {},
   "outputs": [],
   "source": [
    "# nltk.download('stopwords')\n",
    "from nltk.corpus import stopwords\n",
    "stopwords = set(stopwords.words('english'))"
   ]
  },
  {
   "cell_type": "markdown",
   "id": "b226b1dd",
   "metadata": {},
   "source": [
    "The list stopwords now contains the NLTK predefined stop words. Using the tokenized text from earlier, let's remove the stop words and return the remaining tokens."
   ]
  },
  {
   "cell_type": "code",
   "execution_count": 5,
   "id": "55e9e922",
   "metadata": {},
   "outputs": [
    {
     "name": "stdout",
     "output_type": "stream",
     "text": [
      "['To', 'get', 'hired', 'tech', 'product', 'startup', ',', 'know', 'reporting', 'alone', 'wo', \"n't\", 'distinguish', 'potential', 'data', 'analyst', ',', 'good', 'data', 'analyst', 'one', 'absolute', 'passion', 'data', '.', 'He/she', 'strong', 'understanding', 'business/product', 'running', ',', 'always', 'seeking', 'meaningful', 'insights', 'help', 'team', 'make', 'better', 'decisions']\n"
     ]
    }
   ],
   "source": [
    "tokens = word_tokenize(text)\n",
    "tokens_no_stopwords = [i for i in tokens if i not in stopwords]\n",
    "print(tokens_no_stopwords)"
   ]
  },
  {
   "cell_type": "markdown",
   "id": "2ba3c19d",
   "metadata": {},
   "source": [
    "<br></br>\n",
    "\n",
    "### Stemming and Lemmatization\n",
    "\n",
    "Here, we will experiment using the PorterStemmer and WordNetLemmatizer. Recall from the quest that stemming removes the suffix from the word while lemmatization takes into account the context and what the word means in the sentence.\n",
    "\n",
    "Play along with different words to compare the outputs produced by a stemmer and a lemmatizer!"
   ]
  },
  {
   "cell_type": "code",
   "execution_count": 6,
   "id": "6ccbc57d",
   "metadata": {},
   "outputs": [],
   "source": [
    "# run these lines if they have yet to be downloaded.\n",
    "# once downloaded, you can comment out the lines.\n",
    "# nltk.download('wordnet')\n",
    "# nltk.download('omw-1.4')\n",
    "\n",
    "from nltk.stem import PorterStemmer\n",
    "from nltk.stem import WordNetLemmatizer\n",
    "stemmer = PorterStemmer()\n",
    "lemma = WordNetLemmatizer()"
   ]
  },
  {
   "cell_type": "markdown",
   "id": "5aa877b4",
   "metadata": {},
   "source": [
    "Let's test both methods on various pluralised words."
   ]
  },
  {
   "cell_type": "code",
   "execution_count": 7,
   "id": "5b16dff8",
   "metadata": {
    "scrolled": true
   },
   "outputs": [
    {
     "name": "stdout",
     "output_type": "stream",
     "text": [
      "Stemming results:  ['appl', 'octopus', 'categori', 'criteria', 'tomato', 'matric', 'hypothes', 'radii', 'alga', 'cacti']\n",
      "Lemmatization results;  ['apple', 'octopus', 'category', 'criterion', 'tomato', 'matrix', 'hypothesis', 'radius', 'algae', 'cactus']\n"
     ]
    }
   ],
   "source": [
    "plurals = ['apples', 'octopuses', 'categories', 'criteria', 'tomatoes', 'matrices', 'hypotheses', 'radii', 'algae', 'cacti']\n",
    "\n",
    "plurals_stem = [stemmer.stem(plural) for plural in plurals]\n",
    "plurals_lemma = [lemma.lemmatize(plural) for plural in plurals]\n",
    "\n",
    "print(\"Stemming results: \", plurals_stem)\n",
    "print(\"Lemmatization results; \", plurals_lemma)"
   ]
  },
  {
   "cell_type": "code",
   "execution_count": 8,
   "id": "53f50709",
   "metadata": {},
   "outputs": [
    {
     "name": "stdout",
     "output_type": "stream",
     "text": [
      "In the healthcare industry, NLP is used to analyze large amounts of healthcare-related data. This includes clinical notes and medical imaging reports, and many more. With the help of NLP, healthcare providers can quickly and accurately identify patterns and insights from patient data. For example, NLP can predict patient outcomes, such as the likelihood of readmission or the risk of developing a particular condition. NLP can also be used to extract key information from medical imaging reports. An example can be the size and location of tumours. This can help healthcare providers make more informed treatment decisions. Overall, NLP is a powerful tool that can help improve patient outcomes and enhance the quality of care in the healthcare industry. \n",
      "\n",
      "['In the healthcare industry, NLP is used to analyze large amounts of healthcare-related data.', 'This includes clinical notes and medical imaging reports, and many more.', 'With the help of NLP, healthcare providers can quickly and accurately identify patterns and insights from patient data.', 'For example, NLP can predict patient outcomes, such as the likelihood of readmission or the risk of developing a particular condition.', 'NLP can also be used to extract key information from medical imaging reports.', 'An example can be the size and location of tumours.', 'This can help healthcare providers make more informed treatment decisions.', 'Overall, NLP is a powerful tool that can help improve patient outcomes and enhance the quality of care in the healthcare industry.'] \n",
      "\n",
      "['In', 'the', 'healthcare', 'industry', ',', 'NLP', 'is', 'used', 'to', 'analyze', 'large', 'amounts', 'of', 'healthcare-related', 'data', '.', 'This', 'includes', 'clinical', 'notes', 'and', 'medical', 'imaging', 'reports', ',', 'and', 'many', 'more', '.', 'With', 'the', 'help', 'of', 'NLP', ',', 'healthcare', 'providers', 'can', 'quickly', 'and', 'accurately', 'identify', 'patterns', 'and', 'insights', 'from', 'patient', 'data', '.', 'For', 'example', ',', 'NLP', 'can', 'predict', 'patient', 'outcomes', ',', 'such', 'as', 'the', 'likelihood', 'of', 'readmission', 'or', 'the', 'risk', 'of', 'developing', 'a', 'particular', 'condition', '.', 'NLP', 'can', 'also', 'be', 'used', 'to', 'extract', 'key', 'information', 'from', 'medical', 'imaging', 'reports', '.', 'An', 'example', 'can', 'be', 'the', 'size', 'and', 'location', 'of', 'tumours', '.', 'This', 'can', 'help', 'healthcare', 'providers', 'make', 'more', 'informed', 'treatment', 'decisions', '.', 'Overall', ',', 'NLP', 'is', 'a', 'powerful', 'tool', 'that', 'can', 'help', 'improve', 'patient', 'outcomes', 'and', 'enhance', 'the', 'quality', 'of', 'care', 'in', 'the', 'healthcare', 'industry', '.'] \n",
      "\n",
      "['healthcare', 'industry', ',', 'NLP', 'used', 'analyze', 'large', 'amounts', 'healthcare-related', 'data', '.', 'includes', 'clinical', 'notes', 'medical', 'imaging', 'reports', ',', 'many', '.', 'help', 'NLP', ',', 'healthcare', 'providers', 'quickly', 'accurately', 'identify', 'patterns', 'insights', 'patient', 'data', '.', 'example', ',', 'NLP', 'predict', 'patient', 'outcomes', ',', 'likelihood', 'readmission', 'risk', 'developing', 'particular', 'condition', '.', 'NLP', 'also', 'used', 'extract', 'key', 'information', 'medical', 'imaging', 'reports', '.', 'example', 'size', 'location', 'tumours', '.', 'help', 'healthcare', 'providers', 'make', 'informed', 'treatment', 'decisions', '.', 'Overall', ',', 'NLP', 'powerful', 'tool', 'help', 'improve', 'patient', 'outcomes', 'enhance', 'quality', 'care', 'healthcare', 'industry', '.'] \n",
      "\n",
      "Stemming results:  ['healthcar', 'industri', ',', 'nlp', 'use', 'analyz', 'larg', 'amount', 'healthcare-rel', 'data', '.', 'includ', 'clinic', 'note', 'medic', 'imag', 'report', ',', 'mani', '.', 'help', 'nlp', ',', 'healthcar', 'provid', 'quickli', 'accur', 'identifi', 'pattern', 'insight', 'patient', 'data', '.', 'exampl', ',', 'nlp', 'predict', 'patient', 'outcom', ',', 'likelihood', 'readmiss', 'risk', 'develop', 'particular', 'condit', '.', 'nlp', 'also', 'use', 'extract', 'key', 'inform', 'medic', 'imag', 'report', '.', 'exampl', 'size', 'locat', 'tumour', '.', 'help', 'healthcar', 'provid', 'make', 'inform', 'treatment', 'decis', '.', 'overal', ',', 'nlp', 'power', 'tool', 'help', 'improv', 'patient', 'outcom', 'enhanc', 'qualiti', 'care', 'healthcar', 'industri', '.'] \n",
      "\n",
      "Lemmatization results:  ['healthcare', 'industry', ',', 'NLP', 'used', 'analyze', 'large', 'amount', 'healthcare-related', 'data', '.', 'includes', 'clinical', 'note', 'medical', 'imaging', 'report', ',', 'many', '.', 'help', 'NLP', ',', 'healthcare', 'provider', 'quickly', 'accurately', 'identify', 'pattern', 'insight', 'patient', 'data', '.', 'example', ',', 'NLP', 'predict', 'patient', 'outcome', ',', 'likelihood', 'readmission', 'risk', 'developing', 'particular', 'condition', '.', 'NLP', 'also', 'used', 'extract', 'key', 'information', 'medical', 'imaging', 'report', '.', 'example', 'size', 'location', 'tumour', '.', 'help', 'healthcare', 'provider', 'make', 'informed', 'treatment', 'decision', '.', 'Overall', ',', 'NLP', 'powerful', 'tool', 'help', 'improve', 'patient', 'outcome', 'enhance', 'quality', 'care', 'healthcare', 'industry', '.'] \n",
      "\n"
     ]
    }
   ],
   "source": [
    "import nltk\n",
    "from nltk.tokenize import sent_tokenize, word_tokenize\n",
    "from nltk.corpus import stopwords\n",
    "from nltk.stem import PorterStemmer, WordNetLemmatizer\n",
    "\n",
    "# Define sample text\n",
    "sample = \"In the healthcare industry, NLP is used to analyze large amounts of healthcare-related data. This includes clinical notes and medical imaging reports, and many more. With the help of NLP, healthcare providers can quickly and accurately identify patterns and insights from patient data. For example, NLP can predict patient outcomes, such as the likelihood of readmission or the risk of developing a particular condition. NLP can also be used to extract key information from medical imaging reports. An example can be the size and location of tumours. This can help healthcare providers make more informed treatment decisions. Overall, NLP is a powerful tool that can help improve patient outcomes and enhance the quality of care in the healthcare industry.\"\n",
    "\n",
    "# Tokenize into sentences and words\n",
    "sentences = sent_tokenize(sample)\n",
    "words = word_tokenize(sample)\n",
    "\n",
    "# Remove stopwords\n",
    "stopwords_removed = [word for word in words if word.lower() not in stopwords.words(\"english\")]\n",
    "\n",
    "# Perform stemming and lemmatization\n",
    "ps = PorterStemmer()\n",
    "wnl = WordNetLemmatizer()\n",
    "sample_stem = [ps.stem(word) for word in stopwords_removed]\n",
    "sample_lemma = [wnl.lemmatize(word) for word in stopwords_removed]\n",
    "\n",
    "# Print the results\n",
    "print(sample, \"\\n\")\n",
    "print(sentences, \"\\n\")\n",
    "print(words, \"\\n\")\n",
    "print(stopwords_removed, \"\\n\")\n",
    "print(\"Stemming results: \", sample_stem, \"\\n\")\n",
    "print(\"Lemmatization results: \", sample_lemma, \"\\n\")\n"
   ]
  },
  {
   "cell_type": "code",
   "execution_count": null,
   "id": "dacfd2f4",
   "metadata": {},
   "outputs": [],
   "source": []
  }
 ],
 "metadata": {
  "kernelspec": {
   "display_name": "Python 3 (ipykernel)",
   "language": "python",
   "name": "python3"
  },
  "language_info": {
   "codemirror_mode": {
    "name": "ipython",
    "version": 3
   },
   "file_extension": ".py",
   "mimetype": "text/x-python",
   "name": "python",
   "nbconvert_exporter": "python",
   "pygments_lexer": "ipython3",
   "version": "3.11.7"
  }
 },
 "nbformat": 4,
 "nbformat_minor": 5
}
